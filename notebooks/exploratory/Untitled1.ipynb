{
 "cells": [
  {
   "cell_type": "code",
   "execution_count": 1,
   "metadata": {},
   "outputs": [],
   "source": [
    "import pandas as pd\n",
    "import numpy as np\n",
    "import matplotlib.pyplot as plt\n",
    "import seaborn as sns\n",
    "%matplotlib inline"
   ]
  },
  {
   "cell_type": "code",
   "execution_count": 2,
   "metadata": {},
   "outputs": [],
   "source": [
    "s0w1d1 = pd.read_csv('../../data/processed/s0w1d1.csv')\n",
    "s1w0d0 = pd.read_csv('../../data/processed/s1w0d0.csv')\n",
    "s1w0d1 = pd.read_csv('../../data/processed/s1w0d1.csv')\n",
    "s1w1d0 = pd.read_csv('../../data/processed/s1w1d0.csv')\n",
    "s1w1d1 = pd.read_csv('../../data/processed/s1w1d1_1.csv')\n",
    "oy_df = pd.read_csv('../../data/processed/oy.csv')"
   ]
  },
  {
   "cell_type": "code",
   "execution_count": null,
   "metadata": {},
   "outputs": [],
   "source": []
  }
 ],
 "metadata": {
  "kernelspec": {
   "display_name": "Python 3",
   "language": "python",
   "name": "python3"
  },
  "language_info": {
   "codemirror_mode": {
    "name": "ipython",
    "version": 3
   },
   "file_extension": ".py",
   "mimetype": "text/x-python",
   "name": "python",
   "nbconvert_exporter": "python",
   "pygments_lexer": "ipython3",
   "version": "3.7.4"
  }
 },
 "nbformat": 4,
 "nbformat_minor": 2
}
