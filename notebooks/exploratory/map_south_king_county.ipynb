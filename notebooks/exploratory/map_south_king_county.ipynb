{
 "cells": [
  {
   "cell_type": "markdown",
   "metadata": {
    "Collapsed": "false"
   },
   "source": [
    "# Mapping King County w/ Opportunity Youth Population Figures"
   ]
  },
  {
   "cell_type": "markdown",
   "metadata": {
    "Collapsed": "false"
   },
   "source": [
    "This notebook describes the process of importing and cleaning King County Washington map data, and then plotting into a figure used in our report"
   ]
  },
  {
   "cell_type": "markdown",
   "metadata": {
    "Collapsed": "false"
   },
   "source": [
    "## Load necessary packages"
   ]
  },
  {
   "cell_type": "code",
   "execution_count": 1,
   "metadata": {
    "Collapsed": "false"
   },
   "outputs": [],
   "source": [
    "# make sure you are in oy-env environment\n",
    "%matplotlib inline\n",
    "import geopandas as gpd\n",
    "from matplotlib import pyplot as plt\n",
    "import pandas as pd"
   ]
  },
  {
   "cell_type": "markdown",
   "metadata": {
    "Collapsed": "false"
   },
   "source": [
    "## Load necessary data and process for mapping"
   ]
  },
  {
   "cell_type": "code",
   "execution_count": 2,
   "metadata": {
    "Collapsed": "false"
   },
   "outputs": [],
   "source": [
    "# Import Washington PUMA Data with GeoPandas Shape data in Geometry column\n",
    "wa_puma = gpd.read_file(\"../../data/raw/tl_2017_53_puma10.shp\") \n",
    "\n",
    "# Converts PUMACE10 Column from string to integer\n",
    "wa_puma.loc[:,'PUMACE10'] = wa_puma['PUMACE10'].astype(int)\n",
    "wa_puma.loc[:,'GEOID10'] = wa_puma['GEOID10'].astype(int)"
   ]
  },
  {
   "cell_type": "code",
   "execution_count": 3,
   "metadata": {},
   "outputs": [
    {
     "data": {
      "text/html": [
       "<div>\n",
       "<style scoped>\n",
       "    .dataframe tbody tr th:only-of-type {\n",
       "        vertical-align: middle;\n",
       "    }\n",
       "\n",
       "    .dataframe tbody tr th {\n",
       "        vertical-align: top;\n",
       "    }\n",
       "\n",
       "    .dataframe thead th {\n",
       "        text-align: right;\n",
       "    }\n",
       "</style>\n",
       "<table border=\"1\" class=\"dataframe\">\n",
       "  <thead>\n",
       "    <tr style=\"text-align: right;\">\n",
       "      <th></th>\n",
       "      <th>STATEFP10</th>\n",
       "      <th>PUMACE10</th>\n",
       "      <th>GEOID10</th>\n",
       "      <th>NAMELSAD10</th>\n",
       "      <th>MTFCC10</th>\n",
       "      <th>FUNCSTAT10</th>\n",
       "      <th>ALAND10</th>\n",
       "      <th>AWATER10</th>\n",
       "      <th>INTPTLAT10</th>\n",
       "      <th>INTPTLON10</th>\n",
       "      <th>geometry</th>\n",
       "    </tr>\n",
       "  </thead>\n",
       "  <tbody>\n",
       "    <tr>\n",
       "      <th>0</th>\n",
       "      <td>53</td>\n",
       "      <td>10200</td>\n",
       "      <td>5310200</td>\n",
       "      <td>Skagit, Island &amp; San Juan Counties PUMA</td>\n",
       "      <td>G6120</td>\n",
       "      <td>S</td>\n",
       "      <td>5470622131</td>\n",
       "      <td>2441658886</td>\n",
       "      <td>+48.4470835</td>\n",
       "      <td>-122.1737477</td>\n",
       "      <td>POLYGON ((-122.44422 48.64527, -122.43685 48.6...</td>\n",
       "    </tr>\n",
       "    <tr>\n",
       "      <th>1</th>\n",
       "      <td>53</td>\n",
       "      <td>10100</td>\n",
       "      <td>5310100</td>\n",
       "      <td>Whatcom County--Bellingham City PUMA</td>\n",
       "      <td>G6120</td>\n",
       "      <td>S</td>\n",
       "      <td>5459332804</td>\n",
       "      <td>1028183246</td>\n",
       "      <td>+48.8426531</td>\n",
       "      <td>-121.8364325</td>\n",
       "      <td>POLYGON ((-122.40642 49.00230, -122.40617 49.0...</td>\n",
       "    </tr>\n",
       "    <tr>\n",
       "      <th>2</th>\n",
       "      <td>53</td>\n",
       "      <td>10400</td>\n",
       "      <td>5310400</td>\n",
       "      <td>Stevens, Okanogan, Pend Oreille &amp; Ferry Counti...</td>\n",
       "      <td>G6120</td>\n",
       "      <td>S</td>\n",
       "      <td>29389124389</td>\n",
       "      <td>489162432</td>\n",
       "      <td>+48.5031090</td>\n",
       "      <td>-118.7866777</td>\n",
       "      <td>POLYGON ((-118.14859 47.88667, -118.14899 47.8...</td>\n",
       "    </tr>\n",
       "    <tr>\n",
       "      <th>3</th>\n",
       "      <td>53</td>\n",
       "      <td>10504</td>\n",
       "      <td>5310504</td>\n",
       "      <td>Spokane County (Outer)--Cheney City PUMA</td>\n",
       "      <td>G6120</td>\n",
       "      <td>S</td>\n",
       "      <td>3983412021</td>\n",
       "      <td>35812133</td>\n",
       "      <td>+47.5972847</td>\n",
       "      <td>-117.1210417</td>\n",
       "      <td>POLYGON ((-117.10528 47.61018, -117.10527 47.6...</td>\n",
       "    </tr>\n",
       "    <tr>\n",
       "      <th>4</th>\n",
       "      <td>53</td>\n",
       "      <td>10503</td>\n",
       "      <td>5310503</td>\n",
       "      <td>Spokane County (East Central)--Greater Spokane...</td>\n",
       "      <td>G6120</td>\n",
       "      <td>S</td>\n",
       "      <td>270926976</td>\n",
       "      <td>5004332</td>\n",
       "      <td>+47.6561281</td>\n",
       "      <td>-117.1818649</td>\n",
       "      <td>POLYGON ((-117.15534 47.69971, -117.15509 47.6...</td>\n",
       "    </tr>\n",
       "  </tbody>\n",
       "</table>\n",
       "</div>"
      ],
      "text/plain": [
       "  STATEFP10  PUMACE10  GEOID10  \\\n",
       "0        53     10200  5310200   \n",
       "1        53     10100  5310100   \n",
       "2        53     10400  5310400   \n",
       "3        53     10504  5310504   \n",
       "4        53     10503  5310503   \n",
       "\n",
       "                                          NAMELSAD10 MTFCC10 FUNCSTAT10  \\\n",
       "0            Skagit, Island & San Juan Counties PUMA   G6120          S   \n",
       "1               Whatcom County--Bellingham City PUMA   G6120          S   \n",
       "2  Stevens, Okanogan, Pend Oreille & Ferry Counti...   G6120          S   \n",
       "3           Spokane County (Outer)--Cheney City PUMA   G6120          S   \n",
       "4  Spokane County (East Central)--Greater Spokane...   G6120          S   \n",
       "\n",
       "       ALAND10    AWATER10   INTPTLAT10    INTPTLON10  \\\n",
       "0   5470622131  2441658886  +48.4470835  -122.1737477   \n",
       "1   5459332804  1028183246  +48.8426531  -121.8364325   \n",
       "2  29389124389   489162432  +48.5031090  -118.7866777   \n",
       "3   3983412021    35812133  +47.5972847  -117.1210417   \n",
       "4    270926976     5004332  +47.6561281  -117.1818649   \n",
       "\n",
       "                                            geometry  \n",
       "0  POLYGON ((-122.44422 48.64527, -122.43685 48.6...  \n",
       "1  POLYGON ((-122.40642 49.00230, -122.40617 49.0...  \n",
       "2  POLYGON ((-118.14859 47.88667, -118.14899 47.8...  \n",
       "3  POLYGON ((-117.10528 47.61018, -117.10527 47.6...  \n",
       "4  POLYGON ((-117.15534 47.69971, -117.15509 47.6...  "
      ]
     },
     "execution_count": 3,
     "metadata": {},
     "output_type": "execute_result"
    }
   ],
   "source": [
    "wa_puma.head()"
   ]
  },
  {
   "cell_type": "code",
   "execution_count": 4,
   "metadata": {},
   "outputs": [
    {
     "data": {
      "image/png": "[encoded data removed]",
      "text/plain": [
       "<Figure size 432x288 with 1 Axes>"
      ]
     },
     "metadata": {
      "needs_background": "light"
     },
     "output_type": "display_data"
    }
   ],
   "source": [
    "wa_puma.plot()\n",
    "plt.show()"
   ]
  },
  {
   "cell_type": "markdown",
   "metadata": {},
   "source": [
    "We can scrape from this [site](https://www.zipcodestogo.com/Washington/) the zipcodes of each Washington city "
   ]
  },
  {
   "cell_type": "code",
   "execution_count": 5,
   "metadata": {
    "Collapsed": "false"
   },
   "outputs": [],
   "source": [
    "data = pd.read_html('https://www.zipcodestogo.com/Washington/')"
   ]
  },
  {
   "cell_type": "code",
   "execution_count": 6,
   "metadata": {
    "Collapsed": "false"
   },
   "outputs": [
    {
     "data": {
      "text/html": [
       "<div>\n",
       "<style scoped>\n",
       "    .dataframe tbody tr th:only-of-type {\n",
       "        vertical-align: middle;\n",
       "    }\n",
       "\n",
       "    .dataframe tbody tr th {\n",
       "        vertical-align: top;\n",
       "    }\n",
       "\n",
       "    .dataframe thead th {\n",
       "        text-align: right;\n",
       "    }\n",
       "</style>\n",
       "<table border=\"1\" class=\"dataframe\">\n",
       "  <thead>\n",
       "    <tr style=\"text-align: right;\">\n",
       "      <th></th>\n",
       "      <th>0</th>\n",
       "      <th>1</th>\n",
       "      <th>2</th>\n",
       "      <th>3</th>\n",
       "    </tr>\n",
       "  </thead>\n",
       "  <tbody>\n",
       "    <tr>\n",
       "      <th>0</th>\n",
       "      <td>Zip Codes for the State of  Washington</td>\n",
       "      <td>Zip Codes for the State of  Washington</td>\n",
       "      <td>Zip Codes for the State of  Washington</td>\n",
       "      <td>Zip Codes for the State of  Washington</td>\n",
       "    </tr>\n",
       "    <tr>\n",
       "      <th>1</th>\n",
       "      <td>Zip Code</td>\n",
       "      <td>City</td>\n",
       "      <td>County</td>\n",
       "      <td>Zip Code Map</td>\n",
       "    </tr>\n",
       "    <tr>\n",
       "      <th>2</th>\n",
       "      <td>98001</td>\n",
       "      <td>Auburn</td>\n",
       "      <td>King</td>\n",
       "      <td>View Map</td>\n",
       "    </tr>\n",
       "    <tr>\n",
       "      <th>3</th>\n",
       "      <td>98002</td>\n",
       "      <td>Auburn</td>\n",
       "      <td>King</td>\n",
       "      <td>View Map</td>\n",
       "    </tr>\n",
       "    <tr>\n",
       "      <th>4</th>\n",
       "      <td>98003</td>\n",
       "      <td>Federal Way</td>\n",
       "      <td>King</td>\n",
       "      <td>View Map</td>\n",
       "    </tr>\n",
       "  </tbody>\n",
       "</table>\n",
       "</div>"
      ],
      "text/plain": [
       "                                        0  \\\n",
       "0  Zip Codes for the State of  Washington   \n",
       "1                                Zip Code   \n",
       "2                                   98001   \n",
       "3                                   98002   \n",
       "4                                   98003   \n",
       "\n",
       "                                        1  \\\n",
       "0  Zip Codes for the State of  Washington   \n",
       "1                                    City   \n",
       "2                                  Auburn   \n",
       "3                                  Auburn   \n",
       "4                             Federal Way   \n",
       "\n",
       "                                        2  \\\n",
       "0  Zip Codes for the State of  Washington   \n",
       "1                                  County   \n",
       "2                                    King   \n",
       "3                                    King   \n",
       "4                                    King   \n",
       "\n",
       "                                        3  \n",
       "0  Zip Codes for the State of  Washington  \n",
       "1                            Zip Code Map  \n",
       "2                                View Map  \n",
       "3                                View Map  \n",
       "4                                View Map  "
      ]
     },
     "execution_count": 6,
     "metadata": {},
     "output_type": "execute_result"
    }
   ],
   "source": [
    "df_zips = data[1].copy()\n",
    "df_zips.head()"
   ]
  },
  {
   "cell_type": "code",
   "execution_count": 7,
   "metadata": {
    "Collapsed": "false"
   },
   "outputs": [
    {
     "data": {
      "text/html": [
       "<div>\n",
       "<style scoped>\n",
       "    .dataframe tbody tr th:only-of-type {\n",
       "        vertical-align: middle;\n",
       "    }\n",
       "\n",
       "    .dataframe tbody tr th {\n",
       "        vertical-align: top;\n",
       "    }\n",
       "\n",
       "    .dataframe thead th {\n",
       "        text-align: right;\n",
       "    }\n",
       "</style>\n",
       "<table border=\"1\" class=\"dataframe\">\n",
       "  <thead>\n",
       "    <tr style=\"text-align: right;\">\n",
       "      <th></th>\n",
       "      <th>Zip Code</th>\n",
       "      <th>City</th>\n",
       "      <th>County</th>\n",
       "    </tr>\n",
       "  </thead>\n",
       "  <tbody>\n",
       "    <tr>\n",
       "      <th>0</th>\n",
       "      <td>98001</td>\n",
       "      <td>Auburn</td>\n",
       "      <td>King</td>\n",
       "    </tr>\n",
       "    <tr>\n",
       "      <th>1</th>\n",
       "      <td>98002</td>\n",
       "      <td>Auburn</td>\n",
       "      <td>King</td>\n",
       "    </tr>\n",
       "    <tr>\n",
       "      <th>2</th>\n",
       "      <td>98003</td>\n",
       "      <td>Federal Way</td>\n",
       "      <td>King</td>\n",
       "    </tr>\n",
       "    <tr>\n",
       "      <th>3</th>\n",
       "      <td>98004</td>\n",
       "      <td>Bellevue</td>\n",
       "      <td>King</td>\n",
       "    </tr>\n",
       "    <tr>\n",
       "      <th>4</th>\n",
       "      <td>98005</td>\n",
       "      <td>Bellevue</td>\n",
       "      <td>King</td>\n",
       "    </tr>\n",
       "  </tbody>\n",
       "</table>\n",
       "</div>"
      ],
      "text/plain": [
       "  Zip Code         City County\n",
       "0    98001       Auburn   King\n",
       "1    98002       Auburn   King\n",
       "2    98003  Federal Way   King\n",
       "3    98004     Bellevue   King\n",
       "4    98005     Bellevue   King"
      ]
     },
     "execution_count": 7,
     "metadata": {},
     "output_type": "execute_result"
    }
   ],
   "source": [
    "df_zips.drop(0, inplace=True)\n",
    "df_zips.drop(3, inplace=True, axis=1)\n",
    "df_zips.columns = df_zips.loc[1].to_list()\n",
    "df_zips.drop(1, inplace=True)\n",
    "df_zips.reset_index(inplace=True, drop=True)\n",
    "df_zips.head()"
   ]
  },
  {
   "cell_type": "markdown",
   "metadata": {},
   "source": [
    "From [here](https://www.kingcounty.gov/depts/health/data/community-health-indicators/definitions.aspx) I get the South King County cities -> Auburn, Burien, Covington, Des Moines, Enumclaw, Federal Way, Kent, Maple Valley, Normandy Park, Renton, Tukwila, SeaTac, White Center/Boulevard Park, and Vashon Island."
   ]
  },
  {
   "cell_type": "code",
   "execution_count": 8,
   "metadata": {},
   "outputs": [
    {
     "data": {
      "text/html": [
       "<div>\n",
       "<style scoped>\n",
       "    .dataframe tbody tr th:only-of-type {\n",
       "        vertical-align: middle;\n",
       "    }\n",
       "\n",
       "    .dataframe tbody tr th {\n",
       "        vertical-align: top;\n",
       "    }\n",
       "\n",
       "    .dataframe thead th {\n",
       "        text-align: right;\n",
       "    }\n",
       "</style>\n",
       "<table border=\"1\" class=\"dataframe\">\n",
       "  <thead>\n",
       "    <tr style=\"text-align: right;\">\n",
       "      <th></th>\n",
       "      <th>Zip Code</th>\n",
       "      <th>City</th>\n",
       "      <th>County</th>\n",
       "    </tr>\n",
       "  </thead>\n",
       "  <tbody>\n",
       "    <tr>\n",
       "      <th>0</th>\n",
       "      <td>98001</td>\n",
       "      <td>Auburn</td>\n",
       "      <td>King</td>\n",
       "    </tr>\n",
       "    <tr>\n",
       "      <th>1</th>\n",
       "      <td>98002</td>\n",
       "      <td>Auburn</td>\n",
       "      <td>King</td>\n",
       "    </tr>\n",
       "    <tr>\n",
       "      <th>2</th>\n",
       "      <td>98003</td>\n",
       "      <td>Federal Way</td>\n",
       "      <td>King</td>\n",
       "    </tr>\n",
       "    <tr>\n",
       "      <th>3</th>\n",
       "      <td>98022</td>\n",
       "      <td>Enumclaw</td>\n",
       "      <td>King</td>\n",
       "    </tr>\n",
       "    <tr>\n",
       "      <th>4</th>\n",
       "      <td>98023</td>\n",
       "      <td>Federal Way</td>\n",
       "      <td>King</td>\n",
       "    </tr>\n",
       "  </tbody>\n",
       "</table>\n",
       "</div>"
      ],
      "text/plain": [
       "  Zip Code         City County\n",
       "0    98001       Auburn   King\n",
       "1    98002       Auburn   King\n",
       "2    98003  Federal Way   King\n",
       "3    98022     Enumclaw   King\n",
       "4    98023  Federal Way   King"
      ]
     },
     "execution_count": 8,
     "metadata": {},
     "output_type": "execute_result"
    }
   ],
   "source": [
    "df_zips = df_zips[df_zips.City.isin(['Auburn','Federal Way','Enumclaw','Burien','Covington','Des Moines','Enumclaw','Federal Way','Kent','Maple Valley',\n",
    "                           'Normandy Park','Renton','Tukwila','SeaTac','White Center/Boulevard Park','Vashon Island'])].reset_index(drop=True)\n",
    "df_zips.head()"
   ]
  },
  {
   "cell_type": "code",
   "execution_count": 10,
   "metadata": {},
   "outputs": [
    {
     "data": {
      "text/html": [
       "<div>\n",
       "<style scoped>\n",
       "    .dataframe tbody tr th:only-of-type {\n",
       "        vertical-align: middle;\n",
       "    }\n",
       "\n",
       "    .dataframe tbody tr th {\n",
       "        vertical-align: top;\n",
       "    }\n",
       "\n",
       "    .dataframe thead th {\n",
       "        text-align: right;\n",
       "    }\n",
       "</style>\n",
       "<table border=\"1\" class=\"dataframe\">\n",
       "  <thead>\n",
       "    <tr style=\"text-align: right;\">\n",
       "      <th></th>\n",
       "      <th>zcta</th>\n",
       "      <th>trct</th>\n",
       "    </tr>\n",
       "  </thead>\n",
       "  <tbody>\n",
       "    <tr>\n",
       "      <th>0</th>\n",
       "      <td>98019</td>\n",
       "      <td>53033032500</td>\n",
       "    </tr>\n",
       "    <tr>\n",
       "      <th>1</th>\n",
       "      <td>98224</td>\n",
       "      <td>53033032800</td>\n",
       "    </tr>\n",
       "    <tr>\n",
       "      <th>2</th>\n",
       "      <td>98032</td>\n",
       "      <td>53033029700</td>\n",
       "    </tr>\n",
       "    <tr>\n",
       "      <th>3</th>\n",
       "      <td>98168</td>\n",
       "      <td>53033027000</td>\n",
       "    </tr>\n",
       "    <tr>\n",
       "      <th>4</th>\n",
       "      <td>99999</td>\n",
       "      <td>53033990100</td>\n",
       "    </tr>\n",
       "  </tbody>\n",
       "</table>\n",
       "</div>"
      ],
      "text/plain": [
       "    zcta         trct\n",
       "0  98019  53033032500\n",
       "1  98224  53033032800\n",
       "2  98032  53033029700\n",
       "3  98168  53033027000\n",
       "4  99999  53033990100"
      ]
     },
     "execution_count": 10,
     "metadata": {},
     "output_type": "execute_result"
    }
   ],
   "source": [
    "sql_zip_trct = pd.read_csv('../../data/processed/tract_zip.csv')\n",
    "sql_zip_trct.head()"
   ]
  },
  {
   "cell_type": "code",
   "execution_count": 11,
   "metadata": {},
   "outputs": [
    {
     "data": {
      "text/html": [
       "<div>\n",
       "<style scoped>\n",
       "    .dataframe tbody tr th:only-of-type {\n",
       "        vertical-align: middle;\n",
       "    }\n",
       "\n",
       "    .dataframe tbody tr th {\n",
       "        vertical-align: top;\n",
       "    }\n",
       "\n",
       "    .dataframe thead th {\n",
       "        text-align: right;\n",
       "    }\n",
       "</style>\n",
       "<table border=\"1\" class=\"dataframe\">\n",
       "  <thead>\n",
       "    <tr style=\"text-align: right;\">\n",
       "      <th></th>\n",
       "      <th>zcta</th>\n",
       "      <th>trct</th>\n",
       "      <th>tractce</th>\n",
       "    </tr>\n",
       "  </thead>\n",
       "  <tbody>\n",
       "    <tr>\n",
       "      <th>0</th>\n",
       "      <td>98019</td>\n",
       "      <td>53033032500</td>\n",
       "      <td>032500</td>\n",
       "    </tr>\n",
       "    <tr>\n",
       "      <th>1</th>\n",
       "      <td>98224</td>\n",
       "      <td>53033032800</td>\n",
       "      <td>032800</td>\n",
       "    </tr>\n",
       "    <tr>\n",
       "      <th>2</th>\n",
       "      <td>98032</td>\n",
       "      <td>53033029700</td>\n",
       "      <td>029700</td>\n",
       "    </tr>\n",
       "    <tr>\n",
       "      <th>3</th>\n",
       "      <td>98168</td>\n",
       "      <td>53033027000</td>\n",
       "      <td>027000</td>\n",
       "    </tr>\n",
       "    <tr>\n",
       "      <th>4</th>\n",
       "      <td>99999</td>\n",
       "      <td>53033990100</td>\n",
       "      <td>990100</td>\n",
       "    </tr>\n",
       "  </tbody>\n",
       "</table>\n",
       "</div>"
      ],
      "text/plain": [
       "    zcta         trct tractce\n",
       "0  98019  53033032500  032500\n",
       "1  98224  53033032800  032800\n",
       "2  98032  53033029700  029700\n",
       "3  98168  53033027000  027000\n",
       "4  99999  53033990100  990100"
      ]
     },
     "execution_count": 11,
     "metadata": {},
     "output_type": "execute_result"
    }
   ],
   "source": [
    "sql_zip_trct['tractce'] = sql_zip_trct['trct'].apply(lambda x: str(x)[-6:]) \n",
    "sql_zip_trct.head()"
   ]
  },
  {
   "cell_type": "code",
   "execution_count": 12,
   "metadata": {},
   "outputs": [
    {
     "data": {
      "text/html": [
       "<div>\n",
       "<style scoped>\n",
       "    .dataframe tbody tr th:only-of-type {\n",
       "        vertical-align: middle;\n",
       "    }\n",
       "\n",
       "    .dataframe tbody tr th {\n",
       "        vertical-align: top;\n",
       "    }\n",
       "\n",
       "    .dataframe thead th {\n",
       "        text-align: right;\n",
       "    }\n",
       "</style>\n",
       "<table border=\"1\" class=\"dataframe\">\n",
       "  <thead>\n",
       "    <tr style=\"text-align: right;\">\n",
       "      <th></th>\n",
       "      <th>statefp</th>\n",
       "      <th>countyfp</th>\n",
       "      <th>tractce</th>\n",
       "      <th>puma5ce</th>\n",
       "    </tr>\n",
       "  </thead>\n",
       "  <tbody>\n",
       "    <tr>\n",
       "      <th>0</th>\n",
       "      <td>53</td>\n",
       "      <td>033</td>\n",
       "      <td>000300</td>\n",
       "      <td>11601</td>\n",
       "    </tr>\n",
       "    <tr>\n",
       "      <th>1</th>\n",
       "      <td>53</td>\n",
       "      <td>033</td>\n",
       "      <td>000401</td>\n",
       "      <td>11601</td>\n",
       "    </tr>\n",
       "    <tr>\n",
       "      <th>2</th>\n",
       "      <td>53</td>\n",
       "      <td>033</td>\n",
       "      <td>000402</td>\n",
       "      <td>11601</td>\n",
       "    </tr>\n",
       "    <tr>\n",
       "      <th>3</th>\n",
       "      <td>53</td>\n",
       "      <td>033</td>\n",
       "      <td>000500</td>\n",
       "      <td>11601</td>\n",
       "    </tr>\n",
       "    <tr>\n",
       "      <th>4</th>\n",
       "      <td>53</td>\n",
       "      <td>033</td>\n",
       "      <td>000600</td>\n",
       "      <td>11601</td>\n",
       "    </tr>\n",
       "  </tbody>\n",
       "</table>\n",
       "</div>"
      ],
      "text/plain": [
       "  statefp countyfp tractce puma5ce\n",
       "0      53      033  000300   11601\n",
       "1      53      033  000401   11601\n",
       "2      53      033  000402   11601\n",
       "3      53      033  000500   11601\n",
       "4      53      033  000600   11601"
      ]
     },
     "execution_count": 12,
     "metadata": {},
     "output_type": "execute_result"
    }
   ],
   "source": [
    "sql_puma_trct = pd.read_csv('../../data/processed/puma_tract.csv', dtype=str)\n",
    "sql_puma_trct.head()"
   ]
  },
  {
   "cell_type": "code",
   "execution_count": 13,
   "metadata": {},
   "outputs": [
    {
     "data": {
      "text/html": [
       "<div>\n",
       "<style scoped>\n",
       "    .dataframe tbody tr th:only-of-type {\n",
       "        vertical-align: middle;\n",
       "    }\n",
       "\n",
       "    .dataframe tbody tr th {\n",
       "        vertical-align: top;\n",
       "    }\n",
       "\n",
       "    .dataframe thead th {\n",
       "        text-align: right;\n",
       "    }\n",
       "</style>\n",
       "<table border=\"1\" class=\"dataframe\">\n",
       "  <thead>\n",
       "    <tr style=\"text-align: right;\">\n",
       "      <th></th>\n",
       "      <th>zcta</th>\n",
       "      <th>trct</th>\n",
       "      <th>tractce</th>\n",
       "    </tr>\n",
       "  </thead>\n",
       "  <tbody>\n",
       "    <tr>\n",
       "      <th>0</th>\n",
       "      <td>98032</td>\n",
       "      <td>53033029700</td>\n",
       "      <td>029700</td>\n",
       "    </tr>\n",
       "    <tr>\n",
       "      <th>1</th>\n",
       "      <td>98032</td>\n",
       "      <td>53033028300</td>\n",
       "      <td>028300</td>\n",
       "    </tr>\n",
       "    <tr>\n",
       "      <th>2</th>\n",
       "      <td>98032</td>\n",
       "      <td>53033028300</td>\n",
       "      <td>028300</td>\n",
       "    </tr>\n",
       "    <tr>\n",
       "      <th>3</th>\n",
       "      <td>98032</td>\n",
       "      <td>53033028300</td>\n",
       "      <td>028300</td>\n",
       "    </tr>\n",
       "    <tr>\n",
       "      <th>4</th>\n",
       "      <td>98042</td>\n",
       "      <td>53033029307</td>\n",
       "      <td>029307</td>\n",
       "    </tr>\n",
       "  </tbody>\n",
       "</table>\n",
       "</div>"
      ],
      "text/plain": [
       "    zcta         trct tractce\n",
       "0  98032  53033029700  029700\n",
       "1  98032  53033028300  028300\n",
       "2  98032  53033028300  028300\n",
       "3  98032  53033028300  028300\n",
       "4  98042  53033029307  029307"
      ]
     },
     "execution_count": 13,
     "metadata": {},
     "output_type": "execute_result"
    }
   ],
   "source": [
    "sql_zip_trct_sk = sql_zip_trct[sql_zip_trct['zcta'].isin(df_zips['Zip Code'])].reset_index(drop=True)\n",
    "sql_zip_trct_sk.head()"
   ]
  },
  {
   "cell_type": "code",
   "execution_count": 14,
   "metadata": {},
   "outputs": [
    {
     "data": {
      "text/plain": [
       "(35831, 3)"
      ]
     },
     "execution_count": 14,
     "metadata": {},
     "output_type": "execute_result"
    }
   ],
   "source": [
    "sql_zip_trct.shape"
   ]
  },
  {
   "cell_type": "code",
   "execution_count": 15,
   "metadata": {},
   "outputs": [
    {
     "data": {
      "text/plain": [
       "(8587, 3)"
      ]
     },
     "execution_count": 15,
     "metadata": {},
     "output_type": "execute_result"
    }
   ],
   "source": [
    "sql_zip_trct_sk.shape"
   ]
  },
  {
   "cell_type": "code",
   "execution_count": 16,
   "metadata": {},
   "outputs": [
    {
     "data": {
      "text/plain": [
       "[11609, 11610, 11611, 11612, 11613, 11614, 11615]"
      ]
     },
     "execution_count": 16,
     "metadata": {},
     "output_type": "execute_result"
    }
   ],
   "source": [
    "sql_puma_trct_sk = sql_puma_trct[sql_puma_trct['tractce'].isin(sql_zip_trct_sk.tractce)]\n",
    "skc_puma_list = sql_puma_trct_sk.puma5ce.astype(int).unique().tolist()\n",
    "skc_puma_list"
   ]
  },
  {
   "cell_type": "markdown",
   "metadata": {},
   "source": []
  },
  {
   "cell_type": "markdown",
   "metadata": {},
   "source": [
    "Another way of taking the PUMA IDs was to take them manually from the maps on this [site](https://www.ofm.wa.gov/washington-data-research/population-demographics/gis-data/census-geographic-files/supplemental-information-gis-files/public-use-microdata-area-maps)"
   ]
  },
  {
   "cell_type": "code",
   "execution_count": 17,
   "metadata": {},
   "outputs": [
    {
     "data": {
      "text/html": [
       "<div>\n",
       "<style scoped>\n",
       "    .dataframe tbody tr th:only-of-type {\n",
       "        vertical-align: middle;\n",
       "    }\n",
       "\n",
       "    .dataframe tbody tr th {\n",
       "        vertical-align: top;\n",
       "    }\n",
       "\n",
       "    .dataframe thead th {\n",
       "        text-align: right;\n",
       "    }\n",
       "</style>\n",
       "<table border=\"1\" class=\"dataframe\">\n",
       "  <thead>\n",
       "    <tr style=\"text-align: right;\">\n",
       "      <th></th>\n",
       "      <th>STATEFP10</th>\n",
       "      <th>PUMACE10</th>\n",
       "      <th>GEOID10</th>\n",
       "      <th>NAMELSAD10</th>\n",
       "      <th>MTFCC10</th>\n",
       "      <th>FUNCSTAT10</th>\n",
       "      <th>ALAND10</th>\n",
       "      <th>AWATER10</th>\n",
       "      <th>INTPTLAT10</th>\n",
       "      <th>INTPTLON10</th>\n",
       "      <th>geometry</th>\n",
       "    </tr>\n",
       "  </thead>\n",
       "  <tbody>\n",
       "    <tr>\n",
       "      <th>0</th>\n",
       "      <td>53</td>\n",
       "      <td>10200</td>\n",
       "      <td>5310200</td>\n",
       "      <td>Skagit, Island &amp; San Juan Counties PUMA</td>\n",
       "      <td>G6120</td>\n",
       "      <td>S</td>\n",
       "      <td>5470622131</td>\n",
       "      <td>2441658886</td>\n",
       "      <td>+48.4470835</td>\n",
       "      <td>-122.1737477</td>\n",
       "      <td>POLYGON ((-122.44422 48.64527, -122.43685 48.6...</td>\n",
       "    </tr>\n",
       "    <tr>\n",
       "      <th>1</th>\n",
       "      <td>53</td>\n",
       "      <td>10100</td>\n",
       "      <td>5310100</td>\n",
       "      <td>Whatcom County--Bellingham City PUMA</td>\n",
       "      <td>G6120</td>\n",
       "      <td>S</td>\n",
       "      <td>5459332804</td>\n",
       "      <td>1028183246</td>\n",
       "      <td>+48.8426531</td>\n",
       "      <td>-121.8364325</td>\n",
       "      <td>POLYGON ((-122.40642 49.00230, -122.40617 49.0...</td>\n",
       "    </tr>\n",
       "    <tr>\n",
       "      <th>2</th>\n",
       "      <td>53</td>\n",
       "      <td>10400</td>\n",
       "      <td>5310400</td>\n",
       "      <td>Stevens, Okanogan, Pend Oreille &amp; Ferry Counti...</td>\n",
       "      <td>G6120</td>\n",
       "      <td>S</td>\n",
       "      <td>29389124389</td>\n",
       "      <td>489162432</td>\n",
       "      <td>+48.5031090</td>\n",
       "      <td>-118.7866777</td>\n",
       "      <td>POLYGON ((-118.14859 47.88667, -118.14899 47.8...</td>\n",
       "    </tr>\n",
       "    <tr>\n",
       "      <th>3</th>\n",
       "      <td>53</td>\n",
       "      <td>10504</td>\n",
       "      <td>5310504</td>\n",
       "      <td>Spokane County (Outer)--Cheney City PUMA</td>\n",
       "      <td>G6120</td>\n",
       "      <td>S</td>\n",
       "      <td>3983412021</td>\n",
       "      <td>35812133</td>\n",
       "      <td>+47.5972847</td>\n",
       "      <td>-117.1210417</td>\n",
       "      <td>POLYGON ((-117.10528 47.61018, -117.10527 47.6...</td>\n",
       "    </tr>\n",
       "    <tr>\n",
       "      <th>4</th>\n",
       "      <td>53</td>\n",
       "      <td>10503</td>\n",
       "      <td>5310503</td>\n",
       "      <td>Spokane County (East Central)--Greater Spokane...</td>\n",
       "      <td>G6120</td>\n",
       "      <td>S</td>\n",
       "      <td>270926976</td>\n",
       "      <td>5004332</td>\n",
       "      <td>+47.6561281</td>\n",
       "      <td>-117.1818649</td>\n",
       "      <td>POLYGON ((-117.15534 47.69971, -117.15509 47.6...</td>\n",
       "    </tr>\n",
       "  </tbody>\n",
       "</table>\n",
       "</div>"
      ],
      "text/plain": [
       "  STATEFP10  PUMACE10  GEOID10  \\\n",
       "0        53     10200  5310200   \n",
       "1        53     10100  5310100   \n",
       "2        53     10400  5310400   \n",
       "3        53     10504  5310504   \n",
       "4        53     10503  5310503   \n",
       "\n",
       "                                          NAMELSAD10 MTFCC10 FUNCSTAT10  \\\n",
       "0            Skagit, Island & San Juan Counties PUMA   G6120          S   \n",
       "1               Whatcom County--Bellingham City PUMA   G6120          S   \n",
       "2  Stevens, Okanogan, Pend Oreille & Ferry Counti...   G6120          S   \n",
       "3           Spokane County (Outer)--Cheney City PUMA   G6120          S   \n",
       "4  Spokane County (East Central)--Greater Spokane...   G6120          S   \n",
       "\n",
       "       ALAND10    AWATER10   INTPTLAT10    INTPTLON10  \\\n",
       "0   5470622131  2441658886  +48.4470835  -122.1737477   \n",
       "1   5459332804  1028183246  +48.8426531  -121.8364325   \n",
       "2  29389124389   489162432  +48.5031090  -118.7866777   \n",
       "3   3983412021    35812133  +47.5972847  -117.1210417   \n",
       "4    270926976     5004332  +47.6561281  -117.1818649   \n",
       "\n",
       "                                            geometry  \n",
       "0  POLYGON ((-122.44422 48.64527, -122.43685 48.6...  \n",
       "1  POLYGON ((-122.40642 49.00230, -122.40617 49.0...  \n",
       "2  POLYGON ((-118.14859 47.88667, -118.14899 47.8...  \n",
       "3  POLYGON ((-117.10528 47.61018, -117.10527 47.6...  \n",
       "4  POLYGON ((-117.15534 47.69971, -117.15509 47.6...  "
      ]
     },
     "execution_count": 17,
     "metadata": {},
     "output_type": "execute_result"
    }
   ],
   "source": [
    "wa_puma.head()"
   ]
  },
  {
   "cell_type": "code",
   "execution_count": 18,
   "metadata": {},
   "outputs": [],
   "source": [
    "# Selects all PUMA codes for King County (including Seattle) PUMAs and puts into Subset\n",
    "kc_puma = wa_puma.loc[(wa_puma.PUMACE10 >= 11601 ) & (wa_puma.PUMACE10 <= 11616)]\n",
    "\n",
    "# Creates a new column, KCS and assigns a 1 if the PUMA is in S. King Country/S. Seattle, or 0 otherwise. This is\n",
    "# used to map the gray portion of the figure\n",
    "skc_puma = kc_puma.assign(SKC = [1 if row in skc_puma_list else 0 for row in kc_puma['PUMACE10']])"
   ]
  },
  {
   "cell_type": "code",
   "execution_count": 19,
   "metadata": {},
   "outputs": [
    {
     "data": {
      "text/html": [
       "<div>\n",
       "<style scoped>\n",
       "    .dataframe tbody tr th:only-of-type {\n",
       "        vertical-align: middle;\n",
       "    }\n",
       "\n",
       "    .dataframe tbody tr th {\n",
       "        vertical-align: top;\n",
       "    }\n",
       "\n",
       "    .dataframe thead th {\n",
       "        text-align: right;\n",
       "    }\n",
       "</style>\n",
       "<table border=\"1\" class=\"dataframe\">\n",
       "  <thead>\n",
       "    <tr style=\"text-align: right;\">\n",
       "      <th></th>\n",
       "      <th>STATEFP10</th>\n",
       "      <th>PUMACE10</th>\n",
       "      <th>GEOID10</th>\n",
       "      <th>NAMELSAD10</th>\n",
       "      <th>MTFCC10</th>\n",
       "      <th>FUNCSTAT10</th>\n",
       "      <th>ALAND10</th>\n",
       "      <th>AWATER10</th>\n",
       "      <th>INTPTLAT10</th>\n",
       "      <th>INTPTLON10</th>\n",
       "      <th>geometry</th>\n",
       "      <th>SKC</th>\n",
       "    </tr>\n",
       "  </thead>\n",
       "  <tbody>\n",
       "    <tr>\n",
       "      <th>9</th>\n",
       "      <td>53</td>\n",
       "      <td>11612</td>\n",
       "      <td>5311612</td>\n",
       "      <td>King County (Far Southwest)--Federal Way, Des ...</td>\n",
       "      <td>G6120</td>\n",
       "      <td>S</td>\n",
       "      <td>160638807</td>\n",
       "      <td>279665546</td>\n",
       "      <td>+47.4764651</td>\n",
       "      <td>-122.4271168</td>\n",
       "      <td>POLYGON ((-122.33587 47.26382, -122.33676 47.2...</td>\n",
       "      <td>1</td>\n",
       "    </tr>\n",
       "    <tr>\n",
       "      <th>32</th>\n",
       "      <td>53</td>\n",
       "      <td>11616</td>\n",
       "      <td>5311616</td>\n",
       "      <td>King County (Northeast)--Snoqualmie City, Cott...</td>\n",
       "      <td>G6120</td>\n",
       "      <td>S</td>\n",
       "      <td>2477645989</td>\n",
       "      <td>49838932</td>\n",
       "      <td>+47.5779171</td>\n",
       "      <td>-121.6433869</td>\n",
       "      <td>POLYGON ((-121.87736 47.50068, -121.87745 47.5...</td>\n",
       "      <td>0</td>\n",
       "    </tr>\n",
       "    <tr>\n",
       "      <th>35</th>\n",
       "      <td>53</td>\n",
       "      <td>11611</td>\n",
       "      <td>5311611</td>\n",
       "      <td>King County (West Central)--Burien, SeaTac, Tu...</td>\n",
       "      <td>G6120</td>\n",
       "      <td>S</td>\n",
       "      <td>104685305</td>\n",
       "      <td>6835973</td>\n",
       "      <td>+47.4500687</td>\n",
       "      <td>-122.3101564</td>\n",
       "      <td>POLYGON ((-122.26541 47.48933, -122.26516 47.4...</td>\n",
       "      <td>1</td>\n",
       "    </tr>\n",
       "    <tr>\n",
       "      <th>36</th>\n",
       "      <td>53</td>\n",
       "      <td>11605</td>\n",
       "      <td>5311605</td>\n",
       "      <td>Seattle City (West)--Duwamish &amp; Beacon Hill PUMA</td>\n",
       "      <td>G6120</td>\n",
       "      <td>S</td>\n",
       "      <td>70104140</td>\n",
       "      <td>10124676</td>\n",
       "      <td>+47.5521279</td>\n",
       "      <td>-122.3523950</td>\n",
       "      <td>POLYGON ((-122.32246 47.59583, -122.32147 47.5...</td>\n",
       "      <td>0</td>\n",
       "    </tr>\n",
       "    <tr>\n",
       "      <th>37</th>\n",
       "      <td>53</td>\n",
       "      <td>11603</td>\n",
       "      <td>5311603</td>\n",
       "      <td>Seattle City (Downtown)--Queen Anne &amp; Magnolia...</td>\n",
       "      <td>G6120</td>\n",
       "      <td>S</td>\n",
       "      <td>29279826</td>\n",
       "      <td>8323991</td>\n",
       "      <td>+47.6391415</td>\n",
       "      <td>-122.3720415</td>\n",
       "      <td>POLYGON ((-122.32238 47.65293, -122.32234 47.6...</td>\n",
       "      <td>0</td>\n",
       "    </tr>\n",
       "  </tbody>\n",
       "</table>\n",
       "</div>"
      ],
      "text/plain": [
       "   STATEFP10  PUMACE10  GEOID10  \\\n",
       "9         53     11612  5311612   \n",
       "32        53     11616  5311616   \n",
       "35        53     11611  5311611   \n",
       "36        53     11605  5311605   \n",
       "37        53     11603  5311603   \n",
       "\n",
       "                                           NAMELSAD10 MTFCC10 FUNCSTAT10  \\\n",
       "9   King County (Far Southwest)--Federal Way, Des ...   G6120          S   \n",
       "32  King County (Northeast)--Snoqualmie City, Cott...   G6120          S   \n",
       "35  King County (West Central)--Burien, SeaTac, Tu...   G6120          S   \n",
       "36   Seattle City (West)--Duwamish & Beacon Hill PUMA   G6120          S   \n",
       "37  Seattle City (Downtown)--Queen Anne & Magnolia...   G6120          S   \n",
       "\n",
       "       ALAND10   AWATER10   INTPTLAT10    INTPTLON10  \\\n",
       "9    160638807  279665546  +47.4764651  -122.4271168   \n",
       "32  2477645989   49838932  +47.5779171  -121.6433869   \n",
       "35   104685305    6835973  +47.4500687  -122.3101564   \n",
       "36    70104140   10124676  +47.5521279  -122.3523950   \n",
       "37    29279826    8323991  +47.6391415  -122.3720415   \n",
       "\n",
       "                                             geometry  SKC  \n",
       "9   POLYGON ((-122.33587 47.26382, -122.33676 47.2...    1  \n",
       "32  POLYGON ((-121.87736 47.50068, -121.87745 47.5...    0  \n",
       "35  POLYGON ((-122.26541 47.48933, -122.26516 47.4...    1  \n",
       "36  POLYGON ((-122.32246 47.59583, -122.32147 47.5...    0  \n",
       "37  POLYGON ((-122.32238 47.65293, -122.32234 47.6...    0  "
      ]
     },
     "execution_count": 19,
     "metadata": {},
     "output_type": "execute_result"
    }
   ],
   "source": [
    "skc_puma.head()"
   ]
  },
  {
   "cell_type": "markdown",
   "metadata": {
    "Collapsed": "false"
   },
   "source": [
    "## Visualization of South King County"
   ]
  },
  {
   "cell_type": "code",
   "execution_count": 21,
   "metadata": {
    "Collapsed": "false"
   },
   "outputs": [
    {
     "data": {
      "image/png": "[encoded data removed]",
      "text/plain": [
       "<Figure size 1440x1152 with 1 Axes>"
      ]
     },
     "metadata": {
      "needs_background": "light"
     },
     "output_type": "display_data"
    }
   ],
   "source": [
    "# Plots a map of King County, with South King County and South Seattle in color\n",
    "fig, ax = plt.subplots(1, figsize=(20, 16))\n",
    "ax = skc_puma.plot(ax=ax, \n",
    "              column='SKC', cmap='Accent_r', alpha = .5, linewidth=.5, edgecolor='black',  legend = False)\n",
    "ax.set_title('Map of King County (South King County in Color)', fontsize = 20)\n",
    "ax.set_axis_off()\n",
    "fig.tight_layout\n",
    "plt.show();"
   ]
  },
  {
   "cell_type": "code",
   "execution_count": null,
   "metadata": {},
   "outputs": [],
   "source": []
  }
 ],
 "metadata": {
  "kernelspec": {
   "display_name": "oy-env",
   "language": "python",
   "name": "oy-env"
  },
  "language_info": {
   "codemirror_mode": {
    "name": "ipython",
    "version": 3
   },
   "file_extension": ".py",
   "mimetype": "text/x-python",
   "name": "python",
   "nbconvert_exporter": "python",
   "pygments_lexer": "ipython3",
   "version": "3.7.3"
  }
 },
 "nbformat": 4,
 "nbformat_minor": 4
}
